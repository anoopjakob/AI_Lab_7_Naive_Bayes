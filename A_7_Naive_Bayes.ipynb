{
  "nbformat": 4,
  "nbformat_minor": 0,
  "metadata": {
    "colab": {
      "name": "A_7_Naive_Bayes.ipynb",
      "provenance": [],
      "mount_file_id": "1TNT_MKrY_8Slyxr5DWkZzamv_AUtbFTV",
      "authorship_tag": "ABX9TyPSVtmC+qAV6vvrY4b+15TZ",
      "include_colab_link": true
    },
    "kernelspec": {
      "name": "python3",
      "display_name": "Python 3"
    }
  },
  "cells": [
    {
      "cell_type": "markdown",
      "metadata": {
        "id": "view-in-github",
        "colab_type": "text"
      },
      "source": [
        "<a href=\"https://colab.research.google.com/github/anoopjakob/AI_Lab_7_Naive_Bayes/blob/main/A_7_Naive_Bayes.ipynb\" target=\"_parent\"><img src=\"https://colab.research.google.com/assets/colab-badge.svg\" alt=\"Open In Colab\"/></a>"
      ]
    },
    {
      "cell_type": "markdown",
      "metadata": {
        "id": "b7FXtZqbY_No"
      },
      "source": [
        "1.In this lab, you are going to implement Naive Bayes algorithm using the following\n",
        "”Zoo” data set.\n",
        "\n",
        "The Zoo data set taken from UCI data repository contains data items that describe\n",
        "animals according to certain attributes that categorize them under 7 different classes.\n",
        "\n",
        "This data set consists of 101 animals from a zoo. There are 17 variables with various\n",
        "traits to describe the animals. The 7 Class Types are: Mammal, Bird, Reptile, Fish,\n",
        "Amphibian, Bug and Invertebrate.\n",
        "Implement Naive Bayes algorithm to predict the class of the animals, based upon the\n",
        "variables.\n",
        "\n",
        "For building the model, split the data set into train set and test set (80:20). Use the\n",
        "train set to build the model and the report the accuracy of your model using the test\n",
        "data.\n",
        "\n",
        "The data set and information about the same is uploaded in Google classroom. You\n",
        "can download from there."
      ]
    },
    {
      "cell_type": "code",
      "metadata": {
        "id": "NPtRgjrZZlEv"
      },
      "source": [
        "# Importing the necessary libraries\n",
        "\n",
        "import numpy as np\n",
        "import pandas as pd\n",
        "\n"
      ],
      "execution_count": null,
      "outputs": []
    },
    {
      "cell_type": "code",
      "metadata": {
        "colab": {
          "base_uri": "https://localhost:8080/",
          "height": 196
        },
        "id": "xZIC0JdHZyIk",
        "outputId": "ed152d17-7036-4aa2-b2c5-b0e3e20d4bf2"
      },
      "source": [
        "# using panda to load the csv file into a Dataframe\n",
        "zooDf =  pd.read_csv('/content/drive/MyDrive/Classroom/M1 AI - Artificial Intelligence Lab - 2020-21 Semester 1 M.Tech – AI (2020 M.tech admission)/Anoop Jacob - zoo_data_set', \n",
        "                     names=['animal_name', 'hair', 'feathers', 'eggs', 'milk', 'ariborne', 'aquatic', 'predator', 'toothed', 'backbone', 'breathes',\n",
        "                    'venomous', 'fins', 'legs', 'tail', 'domestic', 'catsize', 'type'])\n",
        "\n",
        "\n",
        "zooDf.head()\n"
      ],
      "execution_count": null,
      "outputs": [
        {
          "output_type": "execute_result",
          "data": {
            "text/html": [
              "<div>\n",
              "<style scoped>\n",
              "    .dataframe tbody tr th:only-of-type {\n",
              "        vertical-align: middle;\n",
              "    }\n",
              "\n",
              "    .dataframe tbody tr th {\n",
              "        vertical-align: top;\n",
              "    }\n",
              "\n",
              "    .dataframe thead th {\n",
              "        text-align: right;\n",
              "    }\n",
              "</style>\n",
              "<table border=\"1\" class=\"dataframe\">\n",
              "  <thead>\n",
              "    <tr style=\"text-align: right;\">\n",
              "      <th></th>\n",
              "      <th>animal_name</th>\n",
              "      <th>hair</th>\n",
              "      <th>feathers</th>\n",
              "      <th>eggs</th>\n",
              "      <th>milk</th>\n",
              "      <th>ariborne</th>\n",
              "      <th>aquatic</th>\n",
              "      <th>predator</th>\n",
              "      <th>toothed</th>\n",
              "      <th>backbone</th>\n",
              "      <th>breathes</th>\n",
              "      <th>venomous</th>\n",
              "      <th>fins</th>\n",
              "      <th>legs</th>\n",
              "      <th>tail</th>\n",
              "      <th>domestic</th>\n",
              "      <th>catsize</th>\n",
              "      <th>type</th>\n",
              "    </tr>\n",
              "  </thead>\n",
              "  <tbody>\n",
              "    <tr>\n",
              "      <th>0</th>\n",
              "      <td>aardvark</td>\n",
              "      <td>1</td>\n",
              "      <td>0</td>\n",
              "      <td>0</td>\n",
              "      <td>1</td>\n",
              "      <td>0</td>\n",
              "      <td>0</td>\n",
              "      <td>1</td>\n",
              "      <td>1</td>\n",
              "      <td>1</td>\n",
              "      <td>1</td>\n",
              "      <td>0</td>\n",
              "      <td>0</td>\n",
              "      <td>4</td>\n",
              "      <td>0</td>\n",
              "      <td>0</td>\n",
              "      <td>1</td>\n",
              "      <td>1</td>\n",
              "    </tr>\n",
              "    <tr>\n",
              "      <th>1</th>\n",
              "      <td>antelope</td>\n",
              "      <td>1</td>\n",
              "      <td>0</td>\n",
              "      <td>0</td>\n",
              "      <td>1</td>\n",
              "      <td>0</td>\n",
              "      <td>0</td>\n",
              "      <td>0</td>\n",
              "      <td>1</td>\n",
              "      <td>1</td>\n",
              "      <td>1</td>\n",
              "      <td>0</td>\n",
              "      <td>0</td>\n",
              "      <td>4</td>\n",
              "      <td>1</td>\n",
              "      <td>0</td>\n",
              "      <td>1</td>\n",
              "      <td>1</td>\n",
              "    </tr>\n",
              "    <tr>\n",
              "      <th>2</th>\n",
              "      <td>bass</td>\n",
              "      <td>0</td>\n",
              "      <td>0</td>\n",
              "      <td>1</td>\n",
              "      <td>0</td>\n",
              "      <td>0</td>\n",
              "      <td>1</td>\n",
              "      <td>1</td>\n",
              "      <td>1</td>\n",
              "      <td>1</td>\n",
              "      <td>0</td>\n",
              "      <td>0</td>\n",
              "      <td>1</td>\n",
              "      <td>0</td>\n",
              "      <td>1</td>\n",
              "      <td>0</td>\n",
              "      <td>0</td>\n",
              "      <td>4</td>\n",
              "    </tr>\n",
              "    <tr>\n",
              "      <th>3</th>\n",
              "      <td>bear</td>\n",
              "      <td>1</td>\n",
              "      <td>0</td>\n",
              "      <td>0</td>\n",
              "      <td>1</td>\n",
              "      <td>0</td>\n",
              "      <td>0</td>\n",
              "      <td>1</td>\n",
              "      <td>1</td>\n",
              "      <td>1</td>\n",
              "      <td>1</td>\n",
              "      <td>0</td>\n",
              "      <td>0</td>\n",
              "      <td>4</td>\n",
              "      <td>0</td>\n",
              "      <td>0</td>\n",
              "      <td>1</td>\n",
              "      <td>1</td>\n",
              "    </tr>\n",
              "    <tr>\n",
              "      <th>4</th>\n",
              "      <td>boar</td>\n",
              "      <td>1</td>\n",
              "      <td>0</td>\n",
              "      <td>0</td>\n",
              "      <td>1</td>\n",
              "      <td>0</td>\n",
              "      <td>0</td>\n",
              "      <td>1</td>\n",
              "      <td>1</td>\n",
              "      <td>1</td>\n",
              "      <td>1</td>\n",
              "      <td>0</td>\n",
              "      <td>0</td>\n",
              "      <td>4</td>\n",
              "      <td>1</td>\n",
              "      <td>0</td>\n",
              "      <td>1</td>\n",
              "      <td>1</td>\n",
              "    </tr>\n",
              "  </tbody>\n",
              "</table>\n",
              "</div>"
            ],
            "text/plain": [
              "  animal_name  hair  feathers  eggs  milk  ...  legs  tail  domestic  catsize  type\n",
              "0    aardvark     1         0     0     1  ...     4     0         0        1     1\n",
              "1    antelope     1         0     0     1  ...     4     1         0        1     1\n",
              "2        bass     0         0     1     0  ...     0     1         0        0     4\n",
              "3        bear     1         0     0     1  ...     4     0         0        1     1\n",
              "4        boar     1         0     0     1  ...     4     1         0        1     1\n",
              "\n",
              "[5 rows x 18 columns]"
            ]
          },
          "metadata": {
            "tags": []
          },
          "execution_count": 2
        }
      ]
    },
    {
      "cell_type": "code",
      "metadata": {
        "colab": {
          "base_uri": "https://localhost:8080/"
        },
        "id": "OAJFYpEYk1w9",
        "outputId": "e079d1eb-c924-4151-83ca-54dddfaf1ce7"
      },
      "source": [
        "# converting the dataframe into list for using in scikit learn\n",
        "\n",
        "zooDataset = zooDf.values.tolist()\n",
        "len(zooDataset[0])"
      ],
      "execution_count": null,
      "outputs": [
        {
          "output_type": "execute_result",
          "data": {
            "text/plain": [
              "18"
            ]
          },
          "metadata": {
            "tags": []
          },
          "execution_count": 3
        }
      ]
    },
    {
      "cell_type": "code",
      "metadata": {
        "id": "1uullNUImDo1"
      },
      "source": [
        "# ONLY RUN ONCE \n",
        "\n",
        "# since we dont need the name column we are popping the first column out from each rows\n",
        "\n",
        "for row in zooDataset:\n",
        "    name = row.pop(0) \n",
        "\n",
        "# we are going to split the data into feature dataset(16 columns) and target datasets(column: type)\n",
        "\n",
        "target_dataset =[]\n",
        "for row in zooDataset:\n",
        "  target = row.pop(-1) # pop the last column from each row\n",
        "  target_dataset.append(target) # save the value popped into target_dataset list."
      ],
      "execution_count": null,
      "outputs": []
    },
    {
      "cell_type": "code",
      "metadata": {
        "id": "6pboyqKncV-S"
      },
      "source": [
        "# using scikit learn's naive bayes model to predict the type/class\n",
        "\n",
        "from sklearn import datasets\n",
        "from sklearn import  metrics\n",
        "from sklearn.naive_bayes import GaussianNB, BernoulliNB, MultinomialNB, CategoricalNB\n",
        "from sklearn.model_selection import train_test_split"
      ],
      "execution_count": null,
      "outputs": []
    },
    {
      "cell_type": "code",
      "metadata": {
        "colab": {
          "base_uri": "https://localhost:8080/"
        },
        "id": "AhHtsFfWc96o",
        "outputId": "2fa38d3e-d68d-47a3-bfc6-e77cd5e67645"
      },
      "source": [
        "# code to split the dataset into 80:20 ratio for training and testing using sklearn\n",
        "\n",
        "zoo_train_dataset, zoo_test_dataset, train_target, test_target = train_test_split(zooDataset, target_dataset, test_size = 0.2, random_state = 11)\n",
        "\n",
        "print('zoo_train_dataset shape : ({},{})'.format(len(zoo_train_dataset), len(zoo_train_dataset[0])))\n",
        "print('zoo_test_dataset shape : ({},{})'.format(len(zoo_test_dataset), len(zoo_test_dataset[0])))\n",
        "print('train_target shape : ({},{})'.format(len(train_target), 1))\n",
        "print('test_target shape : ({},{})'.format(len(test_target), 1))"
      ],
      "execution_count": null,
      "outputs": [
        {
          "output_type": "stream",
          "text": [
            "zoo_train_dataset shape : (80,16)\n",
            "zoo_test_dataset shape : (21,16)\n",
            "train_target shape : (80,1)\n",
            "test_target shape : (21,1)\n"
          ],
          "name": "stdout"
        }
      ]
    },
    {
      "cell_type": "code",
      "metadata": {
        "colab": {
          "base_uri": "https://localhost:8080/"
        },
        "id": "Ezwi0P2onFP9",
        "outputId": "d374a2b6-44b3-49ca-e0ba-b9d2aa4a92fa"
      },
      "source": [
        "# using multinomial naive bayes model for multivariate classification problem\n",
        "\n",
        "# zoo_train_dataset and train_target are used for training/ fitting the model\n",
        "model = MultinomialNB() \n",
        "                        \n",
        "\n",
        "model.fit(zoo_train_dataset, train_target) # fitting the model/ training the model\n",
        "\n",
        "# test_target and zoo_test_target are used for prediction\n",
        "expected = test_target\n",
        "\n",
        "predicted = model.predict(zoo_test_dataset) # model predictoin is done here\n",
        "\n",
        "def Accuracy(y, yhat):\n",
        "  count =0\n",
        "  for i in range(len(y)):\n",
        "    if yhat[i] == y[i]:\n",
        "      count+=1\n",
        "  return count/len(y)*100\n",
        "\n",
        "accuracy = Accuracy(expected, predicted)\n",
        "\n",
        "print('The accuracy of the prediction is : ', accuracy)"
      ],
      "execution_count": null,
      "outputs": [
        {
          "output_type": "stream",
          "text": [
            "The accuracy of the prediction is :  95.23809523809523\n"
          ],
          "name": "stdout"
        }
      ]
    },
    {
      "cell_type": "code",
      "metadata": {
        "colab": {
          "base_uri": "https://localhost:8080/"
        },
        "id": "2UKvGZQE3H4y",
        "outputId": "1fcd3e6b-c632-47e7-9e63-794b140235f5"
      },
      "source": [
        "model\n",
        "\n",
        "# \"alpha\" is set to 1 .. (the number of counts we add to each feature to make it a non zero number)\n",
        "# also known as smoothing parameter\n",
        "\n",
        "# \"fit prior\": Whether to learn class prior probabilities or not. If false, a uniform prior will be used.\n"
      ],
      "execution_count": null,
      "outputs": [
        {
          "output_type": "execute_result",
          "data": {
            "text/plain": [
              "MultinomialNB(alpha=1.0, class_prior=None, fit_prior=True)"
            ]
          },
          "metadata": {
            "tags": []
          },
          "execution_count": 13
        }
      ]
    },
    {
      "cell_type": "code",
      "metadata": {
        "colab": {
          "base_uri": "https://localhost:8080/"
        },
        "id": "7iczgNsIrIX-",
        "outputId": "83ea8186-eaf3-41df-e007-7e1c8518756b"
      },
      "source": [
        "import warnings\n",
        "warnings.filterwarnings('ignore')  \n",
        "\n",
        "# some metrics to assess our model\n",
        "print('Classification Report')\n",
        "print(metrics.classification_report(expected, predicted))\n",
        "\n",
        "print('\\n \\n Convolution Matrix \\n')\n",
        "print(metrics.confusion_matrix(expected, predicted))"
      ],
      "execution_count": null,
      "outputs": [
        {
          "output_type": "stream",
          "text": [
            "Classification Report\n",
            "              precision    recall  f1-score   support\n",
            "\n",
            "           1       1.00      1.00      1.00         9\n",
            "           2       0.86      1.00      0.92         6\n",
            "           4       1.00      1.00      1.00         1\n",
            "           5       1.00      1.00      1.00         1\n",
            "           6       1.00      1.00      1.00         3\n",
            "           7       0.00      0.00      0.00         1\n",
            "\n",
            "    accuracy                           0.95        21\n",
            "   macro avg       0.81      0.83      0.82        21\n",
            "weighted avg       0.91      0.95      0.93        21\n",
            "\n",
            "\n",
            " \n",
            " Convolution Matrix \n",
            "\n",
            "[[9 0 0 0 0 0]\n",
            " [0 6 0 0 0 0]\n",
            " [0 0 1 0 0 0]\n",
            " [0 0 0 1 0 0]\n",
            " [0 0 0 0 3 0]\n",
            " [0 1 0 0 0 0]]\n"
          ],
          "name": "stdout"
        }
      ]
    },
    {
      "cell_type": "code",
      "metadata": {
        "id": "CJKSTKkqtnsm"
      },
      "source": [
        "\n",
        "  "
      ],
      "execution_count": null,
      "outputs": []
    },
    {
      "cell_type": "code",
      "metadata": {
        "id": "91q9SERZvcHs"
      },
      "source": [
        ""
      ],
      "execution_count": null,
      "outputs": []
    }
  ]
}